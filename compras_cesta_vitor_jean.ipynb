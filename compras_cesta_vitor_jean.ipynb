{
  "nbformat": 4,
  "nbformat_minor": 0,
  "metadata": {
    "colab": {
      "name": "compras_cesta_vitor_jean.ipynb",
      "provenance": [],
      "collapsed_sections": []
    },
    "kernelspec": {
      "name": "python3",
      "display_name": "Python 3"
    },
    "language_info": {
      "name": "python"
    }
  },
  "cells": [
    {
      "cell_type": "code",
      "execution_count": 65,
      "metadata": {
        "id": "gMvpilBPz6pw"
      },
      "outputs": [],
      "source": [
        "import numpy as np\n",
        "import pandas as pd\n",
        "from mlxtend.frequent_patterns import apriori, association_rules"
      ]
    },
    {
      "cell_type": "markdown",
      "source": [
        "**O algoritmo Apriori em Python**\n",
        "\n",
        "Existem várias possibilidades de fazer Apriori em Python. Para esta apresentação, usamos o pacote eficiente-apriori.\n",
        "\n",
        "Outra boa implementação pode ser encontrada é a do package mlxtend."
      ],
      "metadata": {
        "id": "BEbFh4yVwtMM"
      }
    },
    {
      "cell_type": "markdown",
      "source": [
        "**Preparando os dados para o package efficient-apriori**\n",
        "\n",
        "O efficient-apriori não permite usar data frames. Então, foi necessário usar uma lista de transações. Nessa lista, cada transação é representada como uma tupla dos produtos dessa transação.\n",
        "\n",
        "Vamos inserir os dados do nosso exemplo anterior como uma lista de transações. Você pode fazer essa lista da seguinte forma:"
      ],
      "metadata": {
        "id": "TypPsZ9wxvZN"
      }
    },
    {
      "cell_type": "code",
      "source": [
        "data = pd.read_csv('/content/drive/MyDrive/compras_mercado.csv')\n",
        "data"
      ],
      "metadata": {
        "colab": {
          "base_uri": "https://localhost:8080/",
          "height": 363
        },
        "id": "mgPTWjDJ0oEj",
        "outputId": "4a62879d-b909-4d71-91a9-52c6c6bdbd39"
      },
      "execution_count": 66,
      "outputs": [
        {
          "output_type": "execute_result",
          "data": {
            "text/plain": [
              "   leite  cafe  cerveja  pao  manteiga  arroz  feijao\n",
              "0      0     1        0    1         1      0       0\n",
              "1      1     0        1    1         1      0       0\n",
              "2      0     1        0    1         1      0       0\n",
              "3      1     1        0    1         1      0       0\n",
              "4      0     0        1    0         0      0       0\n",
              "5      0     0        0    0         1      0       0\n",
              "6      0     0        0    1         0      0       0\n",
              "7      0     0        0    0         0      0       1\n",
              "8      0     0        0    0         0      1       1\n",
              "9      0     0        0    0         0      1       0"
            ],
            "text/html": [
              "\n",
              "  <div id=\"df-d68a43fd-abfd-48e3-a9ec-7c2a513ff874\">\n",
              "    <div class=\"colab-df-container\">\n",
              "      <div>\n",
              "<style scoped>\n",
              "    .dataframe tbody tr th:only-of-type {\n",
              "        vertical-align: middle;\n",
              "    }\n",
              "\n",
              "    .dataframe tbody tr th {\n",
              "        vertical-align: top;\n",
              "    }\n",
              "\n",
              "    .dataframe thead th {\n",
              "        text-align: right;\n",
              "    }\n",
              "</style>\n",
              "<table border=\"1\" class=\"dataframe\">\n",
              "  <thead>\n",
              "    <tr style=\"text-align: right;\">\n",
              "      <th></th>\n",
              "      <th>leite</th>\n",
              "      <th>cafe</th>\n",
              "      <th>cerveja</th>\n",
              "      <th>pao</th>\n",
              "      <th>manteiga</th>\n",
              "      <th>arroz</th>\n",
              "      <th>feijao</th>\n",
              "    </tr>\n",
              "  </thead>\n",
              "  <tbody>\n",
              "    <tr>\n",
              "      <th>0</th>\n",
              "      <td>0</td>\n",
              "      <td>1</td>\n",
              "      <td>0</td>\n",
              "      <td>1</td>\n",
              "      <td>1</td>\n",
              "      <td>0</td>\n",
              "      <td>0</td>\n",
              "    </tr>\n",
              "    <tr>\n",
              "      <th>1</th>\n",
              "      <td>1</td>\n",
              "      <td>0</td>\n",
              "      <td>1</td>\n",
              "      <td>1</td>\n",
              "      <td>1</td>\n",
              "      <td>0</td>\n",
              "      <td>0</td>\n",
              "    </tr>\n",
              "    <tr>\n",
              "      <th>2</th>\n",
              "      <td>0</td>\n",
              "      <td>1</td>\n",
              "      <td>0</td>\n",
              "      <td>1</td>\n",
              "      <td>1</td>\n",
              "      <td>0</td>\n",
              "      <td>0</td>\n",
              "    </tr>\n",
              "    <tr>\n",
              "      <th>3</th>\n",
              "      <td>1</td>\n",
              "      <td>1</td>\n",
              "      <td>0</td>\n",
              "      <td>1</td>\n",
              "      <td>1</td>\n",
              "      <td>0</td>\n",
              "      <td>0</td>\n",
              "    </tr>\n",
              "    <tr>\n",
              "      <th>4</th>\n",
              "      <td>0</td>\n",
              "      <td>0</td>\n",
              "      <td>1</td>\n",
              "      <td>0</td>\n",
              "      <td>0</td>\n",
              "      <td>0</td>\n",
              "      <td>0</td>\n",
              "    </tr>\n",
              "    <tr>\n",
              "      <th>5</th>\n",
              "      <td>0</td>\n",
              "      <td>0</td>\n",
              "      <td>0</td>\n",
              "      <td>0</td>\n",
              "      <td>1</td>\n",
              "      <td>0</td>\n",
              "      <td>0</td>\n",
              "    </tr>\n",
              "    <tr>\n",
              "      <th>6</th>\n",
              "      <td>0</td>\n",
              "      <td>0</td>\n",
              "      <td>0</td>\n",
              "      <td>1</td>\n",
              "      <td>0</td>\n",
              "      <td>0</td>\n",
              "      <td>0</td>\n",
              "    </tr>\n",
              "    <tr>\n",
              "      <th>7</th>\n",
              "      <td>0</td>\n",
              "      <td>0</td>\n",
              "      <td>0</td>\n",
              "      <td>0</td>\n",
              "      <td>0</td>\n",
              "      <td>0</td>\n",
              "      <td>1</td>\n",
              "    </tr>\n",
              "    <tr>\n",
              "      <th>8</th>\n",
              "      <td>0</td>\n",
              "      <td>0</td>\n",
              "      <td>0</td>\n",
              "      <td>0</td>\n",
              "      <td>0</td>\n",
              "      <td>1</td>\n",
              "      <td>1</td>\n",
              "    </tr>\n",
              "    <tr>\n",
              "      <th>9</th>\n",
              "      <td>0</td>\n",
              "      <td>0</td>\n",
              "      <td>0</td>\n",
              "      <td>0</td>\n",
              "      <td>0</td>\n",
              "      <td>1</td>\n",
              "      <td>0</td>\n",
              "    </tr>\n",
              "  </tbody>\n",
              "</table>\n",
              "</div>\n",
              "      <button class=\"colab-df-convert\" onclick=\"convertToInteractive('df-d68a43fd-abfd-48e3-a9ec-7c2a513ff874')\"\n",
              "              title=\"Convert this dataframe to an interactive table.\"\n",
              "              style=\"display:none;\">\n",
              "        \n",
              "  <svg xmlns=\"http://www.w3.org/2000/svg\" height=\"24px\"viewBox=\"0 0 24 24\"\n",
              "       width=\"24px\">\n",
              "    <path d=\"M0 0h24v24H0V0z\" fill=\"none\"/>\n",
              "    <path d=\"M18.56 5.44l.94 2.06.94-2.06 2.06-.94-2.06-.94-.94-2.06-.94 2.06-2.06.94zm-11 1L8.5 8.5l.94-2.06 2.06-.94-2.06-.94L8.5 2.5l-.94 2.06-2.06.94zm10 10l.94 2.06.94-2.06 2.06-.94-2.06-.94-.94-2.06-.94 2.06-2.06.94z\"/><path d=\"M17.41 7.96l-1.37-1.37c-.4-.4-.92-.59-1.43-.59-.52 0-1.04.2-1.43.59L10.3 9.45l-7.72 7.72c-.78.78-.78 2.05 0 2.83L4 21.41c.39.39.9.59 1.41.59.51 0 1.02-.2 1.41-.59l7.78-7.78 2.81-2.81c.8-.78.8-2.07 0-2.86zM5.41 20L4 18.59l7.72-7.72 1.47 1.35L5.41 20z\"/>\n",
              "  </svg>\n",
              "      </button>\n",
              "      \n",
              "  <style>\n",
              "    .colab-df-container {\n",
              "      display:flex;\n",
              "      flex-wrap:wrap;\n",
              "      gap: 12px;\n",
              "    }\n",
              "\n",
              "    .colab-df-convert {\n",
              "      background-color: #E8F0FE;\n",
              "      border: none;\n",
              "      border-radius: 50%;\n",
              "      cursor: pointer;\n",
              "      display: none;\n",
              "      fill: #1967D2;\n",
              "      height: 32px;\n",
              "      padding: 0 0 0 0;\n",
              "      width: 32px;\n",
              "    }\n",
              "\n",
              "    .colab-df-convert:hover {\n",
              "      background-color: #E2EBFA;\n",
              "      box-shadow: 0px 1px 2px rgba(60, 64, 67, 0.3), 0px 1px 3px 1px rgba(60, 64, 67, 0.15);\n",
              "      fill: #174EA6;\n",
              "    }\n",
              "\n",
              "    [theme=dark] .colab-df-convert {\n",
              "      background-color: #3B4455;\n",
              "      fill: #D2E3FC;\n",
              "    }\n",
              "\n",
              "    [theme=dark] .colab-df-convert:hover {\n",
              "      background-color: #434B5C;\n",
              "      box-shadow: 0px 1px 3px 1px rgba(0, 0, 0, 0.15);\n",
              "      filter: drop-shadow(0px 1px 2px rgba(0, 0, 0, 0.3));\n",
              "      fill: #FFFFFF;\n",
              "    }\n",
              "  </style>\n",
              "\n",
              "      <script>\n",
              "        const buttonEl =\n",
              "          document.querySelector('#df-d68a43fd-abfd-48e3-a9ec-7c2a513ff874 button.colab-df-convert');\n",
              "        buttonEl.style.display =\n",
              "          google.colab.kernel.accessAllowed ? 'block' : 'none';\n",
              "\n",
              "        async function convertToInteractive(key) {\n",
              "          const element = document.querySelector('#df-d68a43fd-abfd-48e3-a9ec-7c2a513ff874');\n",
              "          const dataTable =\n",
              "            await google.colab.kernel.invokeFunction('convertToInteractive',\n",
              "                                                     [key], {});\n",
              "          if (!dataTable) return;\n",
              "\n",
              "          const docLinkHtml = 'Like what you see? Visit the ' +\n",
              "            '<a target=\"_blank\" href=https://colab.research.google.com/notebooks/data_table.ipynb>data table notebook</a>'\n",
              "            + ' to learn more about interactive tables.';\n",
              "          element.innerHTML = '';\n",
              "          dataTable['output_type'] = 'display_data';\n",
              "          await google.colab.output.renderOutput(dataTable, element);\n",
              "          const docLink = document.createElement('div');\n",
              "          docLink.innerHTML = docLinkHtml;\n",
              "          element.appendChild(docLink);\n",
              "        }\n",
              "      </script>\n",
              "    </div>\n",
              "  </div>\n",
              "  "
            ]
          },
          "metadata": {},
          "execution_count": 66
        }
      ]
    },
    {
      "cell_type": "markdown",
      "source": [
        "**Configurar os parâmetros para o algoritmo e executar o algoritmo**\n",
        "\n",
        "Como próximo passo, aplicaremos o algoritmo a priori a esses dados. Existem duas configurações que precisamos controlar:\n",
        "\n",
        "**min_support:** é o limite de suporte que foi explicado na seção de algoritmo acima. \n",
        "\n",
        "**min_trust:** é apenas um filtro que filtra as regras que não atendem ao mínimo de confiança. \n",
        "\n",
        "ps: pode colocar em zero se quiser ver todas as regras geradas."
      ],
      "metadata": {
        "id": "0xFEq6mHzRQp"
      }
    },
    {
      "cell_type": "code",
      "source": [
        "data.shape\n"
      ],
      "metadata": {
        "colab": {
          "base_uri": "https://localhost:8080/"
        },
        "id": "-C9sMjIUkQ20",
        "outputId": "0ff30a39-3700-4d47-a8a9-8c15ffbac8ae"
      },
      "execution_count": 67,
      "outputs": [
        {
          "output_type": "execute_result",
          "data": {
            "text/plain": [
              "(10, 7)"
            ]
          },
          "metadata": {},
          "execution_count": 67
        }
      ]
    },
    {
      "cell_type": "code",
      "source": [
        "data.sum()"
      ],
      "metadata": {
        "colab": {
          "base_uri": "https://localhost:8080/"
        },
        "id": "XtkrLcpAiQfU",
        "outputId": "b4b3934c-85f3-46c9-ebce-c1e0e48a44c8"
      },
      "execution_count": 68,
      "outputs": [
        {
          "output_type": "execute_result",
          "data": {
            "text/plain": [
              "leite       2\n",
              "cafe        3\n",
              "cerveja     2\n",
              "pao         5\n",
              "manteiga    5\n",
              "arroz       2\n",
              "feijao      2\n",
              "dtype: int64"
            ]
          },
          "metadata": {},
          "execution_count": 68
        }
      ]
    },
    {
      "cell_type": "code",
      "source": [
        "frq_items = apriori(data, min_support = 0.1, use_colnames = True)\n",
        "  "
      ],
      "metadata": {
        "id": "aHdo9PJ81NQU"
      },
      "execution_count": 69,
      "outputs": []
    },
    {
      "cell_type": "markdown",
      "source": [
        "**As saídas do algoritmo são os conjuntos de itens e as regras que foram geradas.**"
      ],
      "metadata": {
        "id": "u875QdRez9j6"
      }
    },
    {
      "cell_type": "code",
      "source": [
        "print(frq_items)"
      ],
      "metadata": {
        "colab": {
          "base_uri": "https://localhost:8080/"
        },
        "id": "VO2X-3hy0VFk",
        "outputId": "11bb8de0-f77a-48c3-c69f-137e2f57009e"
      },
      "execution_count": 77,
      "outputs": [
        {
          "output_type": "stream",
          "name": "stdout",
          "text": [
            "   support               itemsets\n",
            "0      0.3                 (cafe)\n",
            "1      0.5                  (pao)\n",
            "2      0.5             (manteiga)\n",
            "3      0.3            (cafe, pao)\n",
            "4      0.3       (cafe, manteiga)\n",
            "5      0.4        (manteiga, pao)\n",
            "6      0.3  (cafe, manteiga, pao)\n"
          ]
        }
      ]
    },
    {
      "cell_type": "code",
      "source": [
        "data.columns"
      ],
      "metadata": {
        "colab": {
          "base_uri": "https://localhost:8080/"
        },
        "id": "NZIShaCW1Lbx",
        "outputId": "7edc8bfa-6c35-46bc-b041-e22bfc225aa3"
      },
      "execution_count": 70,
      "outputs": [
        {
          "output_type": "execute_result",
          "data": {
            "text/plain": [
              "Index(['leite', 'cafe', 'cerveja', 'pao', 'manteiga', 'arroz', 'feijao'], dtype='object')"
            ]
          },
          "metadata": {},
          "execution_count": 70
        }
      ]
    },
    {
      "cell_type": "markdown",
      "source": [
        "O algoritmo Apriori pode ser considerado o algoritmo fundamental na basket analysis ou analise de cesta de compras, que se resume a um estudo das cestas de clientes de um mercado, por exemplo.\n",
        "\n",
        "\n",
        "\n"
      ],
      "metadata": {
        "id": "f8mXw0SEejwz"
      }
    },
    {
      "cell_type": "markdown",
      "source": [
        "O objetivo é encontrar combinações de produtos que costumam ser comprados juntos, que chamamos de conjuntos de itens frequentes. O termo técnico para o domínio é Mineração frequente de conjuntos de itens."
      ],
      "metadata": {
        "id": "vmqI7JaOew8w"
      }
    },
    {
      "cell_type": "markdown",
      "source": [
        "A basket analysis não é o único tipo de análise quando usamos conjuntos de itens frequentes ou o algoritmo Apriori. Ela pode ser usada para qualquer tópico no qual você queira estudar conjuntos de itens frequentes."
      ],
      "metadata": {
        "id": "xky6RBNggpe7"
      }
    },
    {
      "cell_type": "markdown",
      "source": [
        "**Como organizar seus dados para o algoritmo Apriori?**\n",
        "\n",
        "Tendo um conjunto de dados no qual os clientes estão comprando vários produtos. Seu objetivo é descobrir quais combinações de produtos são frequentemente compradas juntas.\n",
        "\n",
        "Você precisa organizar os dados de forma que exista um conjunto de produtos em cada linha. Cada um desses conjuntos contém produtos que foram comprados na mesma transação.\n",
        "\n",
        "A solução mais simples seria percorrer todas as transações e, dentro das transações, percorrer todas as combinações de produtos e contá-las, mas isso levaria muito tempo."
      ],
      "metadata": {
        "id": "tfL0RlSthOuO"
      }
    },
    {
      "cell_type": "markdown",
      "source": [
        ""
      ],
      "metadata": {
        "id": "UP03smBfh9Wk"
      }
    },
    {
      "cell_type": "markdown",
      "source": [
        "**Etapa 1. Calculando o suporte para cada item individual**\n",
        "\n",
        "O algoritmo é baseado na noção de suporte. O suporte é simplesmente o número de transações em que um produto específico (ou combinação de produtos) ocorre.\n",
        "\n",
        "O primeiro passo do algoritmo é calcular o suporte de cada item individual. Isso basicamente se resume a contar, para cada produto, em quantas transações ele ocorre.\n",
        "\n",
        "![formulas.png](data:image/png;base64,iVBORw0KGgoAAAANSUhEUgAAAfEAAAEsCAIAAABc8B3bAAAAAXNSR0IArs4c6QAAAARnQU1BAACxjwv8YQUAAAAJcEhZcwAADsMAAA7DAcdvqGQAACwlSURBVHhe7Z3psx3FeYf5u+4/4TJlV5lUXHaK+GapxC7HH/wpdjAEb9hc7Dh4wXFiAg5lm8QSuoAuAkkYCS3GgCWEdBEGaxdCaN9lpc+ZraeXmZ6ZnjM9Pc8pCklzenn7eXt+887bPXPuusMHAhCAAARiIXBXLANhHBCAAAQgcAdNZxJAAAIQiIcAmh6PLxkJBCAAATSdOQABCEAgHgJoejy+ZCQQgAAE0HTmAAQgAIF4CKDp8fiSkUAAAhBA05kDEIAABOIhgKbH40tGAgEIQABNZw5AAAIQiIcAmh6PLxkJBCAAATSdOQABCEAgHgJoejy+ZCQQgAAE0HTmAAQgAIF4CKDp8fiSkUAAAhBA05kDEIAABOIhgKbH40tGAgEIQABNZw5AAAIQiIcAmh6PLxkJBCAAATSdOQABCEAgHgJoejy+ZCQQgAAE0HTmAAQgAIF4CKDp8fiSkUAAAhBA05kDEIAABOIhgKbH40tGAgEIQABNZw5AAAIQiIcAmh6PLxkJBCAAATSdOQABCEAgHgJoejy+ZCQQqCawunzX/LO0st4Z1frK0vJq51Y6NiCM8DGWjlYEVh1ND8whmAOBXgjM9XyuwkIIO6r6rC2zls7alj+Z7GdXE8dritpMYvidO6VmEgvstvSCcQSNoukjcBImQqAjAUn55nrZIcSe1a+sngqyKvpzPW4SVScCrtXQL0ndL1Id6YZVHU0Pyx9YAwH/BIoYvXPbs6ZqLwiJGpeKiUO11VTjkotDuZol2+JkVufBj6MBNH0cfsJKCLQlMJfGJgGyvSPXRIci6m1z75qo268MxOq519D0tmcK9SAwCgKNcx7dJT1NfCfXkS7rmKVrQ3VDXVNKo/Clk5FouhMmCkFgfATKC5PzUL1YfEwDd0t+I1nLFGkPKcg3FbVCya4kq8ud7hCKC1Jt8sZjgml8rpYtRtPH7T+sh0A1AYPU5XmKXOGLnHVyKNVhIchLRd6mUcCfNd04iV4eTWrOsjCkbv9lo0tOzLMGTY/Zu4xt8gQMyfQsKZ6E0KXVRXVxU9bJhprZsLjNUem1weXS0OiaE/HEQNMjdi5DmzwBg7KmiefVZVUnDfIpB/mGzSx2vIY7gFa+KN021LSApieA0PRWU41KEBgFAT3zkki6+KgPgRq2g5dU0l3T08VMHxrbpI0mZUfhvJZGouktwVENAuETMMicTZrNe8qlTZCuyZR8VbRJjG1B6X4dEQ2g6cTp4Z+SWAiBLgQsyXTTZnVdgLUjLppZ2p3iehWwDrFRA40Kd6Eael3i9NA9hH0QaEnAoHLWDX+qgq+viK0mylOcdbsFte2GHWW2WfU661pCHF81NH18PsNiCDgRsCXTja9TlNMc84T4qv5emGzHjN674Y5gVsiQo5fqJt/aHnFtuBsyXfp1AhN3ITQ9bv8yuukSsEi6daN3KrGpyhpVenZQqZ/vcMkfU0qIF62l72nUtyPmRaqb1N4dY3KpwbKpeh5Nn6rnRz3ukmAkYiGSBXVPpYx6yI2N75iLsMTks8Mum8UbmKvvqmxQOS3ag1nNjQikBpoeiCMww5WAlmWtvoV3bTa2ch0D1+o0S+1Dne40PVyLOw7V3dZxlETTx+EnrMwImMRmdLlUH6GpYUpI4iYwdRHe6iDfE2+XjTS1E9+TLbX9jKcAmj4eX2HpPMVienGsOOo5IdAn7N6szTIQXQNXl53lvQ2iCfn5Ym733+Fr0mX4ZdH08H2EhRIBs9x4uIFfFGXLDhE/3WfrDK0vcMqKp+/UuZ9R0kolATSdCTIuApnqWOIzffecLKLF2upc9fSNF7UFCliy/KnvNZS26Enpf2UrCBHmuGbeWKxF08fiKezMCeRqqoaj84de1FSwmoBPE7D5Tgkt8q8tkL6FPNNkbdG2+BVn3dKOu1GYBRCoI4Cm1xHi+xAJ5GIpBbvrKysi+FYX3lQRzWpaXhmeZuxLT1CWVV/P/qhHsquI7WW2VZkRNfmRbu4u/iC6D3E+hmQTmh6SN7ClAQFztK5KurotwpCPT1IimdDWFEh7LcmyUiWP83XtVq1pMFyKQsCNAJruxolSIRKwxNxSKGuU+PLKnykKt0q2nq7P0/Kli4LpZba2TTseyGrR/NQPeGA62ibQ9NG6bnKGr67o29YUjVU2legxt767XSlTXaBC0vMLSTnsl73U65aXyU0HBmwhgKYzNUZCwLhfsbw+WRZNkc4Wv2NZepRdX6FUAvmaAga9VpMxFQ/SuKyPkk8fyXQM10w0PVzfYJka5GrrgxWSPntU05hMl/Mqddl3dcVV13T1SIVuu0g6PodAVwJoeleC1F8MgXRztyzraiakEM35psb8mdPkX9mOllzTdYFWdiVao/LMCD0VU7EImn0l/mTvymLmzDR7QdOn6ffRjTp7Q0o5N1HeWVJ8l72qcfarDnnyRUtrqNJaW2BOTS5lbMGi2Fk9BH10k29cBqPp4/IX1rYnoC9/Km3VFmjfNzUhsCgCaPqiSNPPwARq09m1BQYeAN1DwIUAmu5CiTLjJ1D7uE9tgfEz8D0COQ2lPWCVLoCkO+XJOPmGb20PTV8YajoakkDFFsPErNoCQ1ofdN+psptUmx35A3gOTR8AOl0ulEA5YDS8Pra2wELNHV9nGT/zuxBav/d3fCDCsBhND8MPWAGBsRIQwbh4FYLpl6BnYTqSvmi/oumLJk5/EIiKQLLfXn8NQ5LPQtIX7mw0feHI6RACERHIHqEyiDqSPoif0fRBsNMpBCIhUAi3+tgtD8wO42I0fRju9AqBKAjIsXg5VEfSB3Iwmj4QeLqFQAQEZuujs1fpJB9Z1JH0odyLpg9Fnn4hMHoCmnAX+ReS6UN5F00fijz9QmDsBAyxeCbqSPpgzkXTB0NPx00J/PnPfz559krTWpTvjYBJuPP3BbCLsTfu1Q2j6QOBp9smBISa79h/8guPvvqj1QO3bt1qUpWyvRGwxOL6W+V7s4CGDQTQdKZF0ASEmq/97ujnH935sfu2iP/+Y3X/1atXxcGgjZ6EcbOA3PxmLt5ZPOgEQNMHxU/ndgK3b98Wav7XD7+cqHmq6Rtfu3DhgvgKcsMRUH47xPSal2X958CHs3diPaPpE3P4GIYrJHvz3iOKmiea/vimvefPn0fTx+BGbByGAJo+DHd6NRJI1Pzeh7fLsbn891+tEaczdyBQRQBNZ34EQUCkyPe/96ExNpc1fXX7GxcvXiROD8JnGBEkATQ9SLdMzCgh6Ddu3PjyY7ty+f7kA2tf/eHqp7/+vBKwb9217/Lly6yRTmyCMNwGBND0BrAo2hMBEXeL6PuRX+8RCn7Pgy98/bFn//c3G+//ybOJoH/8a2uf+Npa8vc9bxy8cuUKmt6TI2g2AgJoegROHP0QhKaLlc8DBw5s3bp18+bN27Zt27j2yt33p3td/vkHG4SsJ5r+1sHD7GUcvb8ZQJ8E0PQ+6dK2GwERd4vo++jRo/vnn/X19X/8frqF8d5vPb9hw4Y8A/P+++9fu3aNON2NK6WmSABNn6LXAxyzeDpUyPq5c+fOnj37n8/uS0RchOpP/WZtdW1b8s9PPvDCkSNHROY9QPsxCQKBEEDTA3EEZtwR0bdQ9oPvf/CJ+19MRPzBxzbv2bNn647Xkn9++htbjh07dvPmTWBBAAI2Amg6cyMUAkLTr1+//sUfpq8B+NxDm3fu3Hn48OG9bxxINP3vVl46ceIEmh6Kw7AjSAJoepBumaRRIkj/77W386zLr5558dChQ2fOnHnvvfe+8thLYj/Mk8+8curUKTR9krODQbsSQNNdSVGuVwIiSF8/8qGcdXn99dc/+OADsRtdxOZ79+7dvn37vn37PvroI97L2KsjaHzsBND0sXswBvuNWRexHCq2LQoFF1vXxd9FEubkyZNsZIzB34yhTwJoep90aduNgDHrkrx/Uci9SLaILTGXLl0Suxh5K4AbUUpNlwCaPl3fBzJyY9ZFpNHlPYuiTPIJxGbMgECwBND0YF0zCcMqsi4o+CRmAIP0TQBN902U9poQqMi6NGmGshCAQEoATWcqDEbAJesymHF0DIFxEkDTx+m38VtN1mX8PmQEIRJA00P0yhRsIusyBS8zxsUTQNMXz5weZ6920Z8wUva6gAkCEGhBAE1vAY0qnQiQdemEj8oQqCSApjNBFk2ArMuiidPflAig6VPydgBjJesSgBMwIWYCaHrM3g1tbGRdQvMI9sRHAE2Pz6fhjoisS7i+wbJYCKDpsXgy+HGQdQneRRgYAwE0PQYvhj8Gsi7h+wgL4yCApsfhx9BHQdYldA9hXywE0PRYPBnwOMi6BOwcTIuNAJoem0dDGw9Zl9A8gj1xE0DT4/bv8KMj6zK8D7BgSgTQ9Cl5e+FjJeuycOR0OHUCaPrUZ0B/4yfr0h9bWoaAjQCaztzoiwBZl77I0i4E7ATQdGZHLwTIuvSClUYhUEcATa8jxPfNCZB1ac6MGhDwQwBN98ORVmQCZF2YDxAYigCaPhT5aPsl6xKtaxnYGAig6WPw0nhsJOsyHl9haZwE0PQ4/TrUqMi6DEWefiGQEEDTmQneCJB18YaShiDQlgCa3pYc9coEyLowIyAQAgE0PQQvxGADWZcYvMgYxk8ATR+/DwMYAVmXAJyACRAgn84c8EFACPrNmzefeeXQ3fdv+dh9Wz730OadO3ceOXLk6tWr4isfPdAGBCDgSoA43ZUU5WwEhHBfu3ZNiPiGzb/9m++s/XrTS4cOHbpw4cLt27eBBoF+CKwu35V8llbWu/ewvrLkpZ0OlvgzAU3v4Aaqzgkkq6OnTp168803RYS+f//+M2fO3LhxAzwQ6IWAkL+77lpeFW0Xf2vfkb2N+TfyZ95n1m3xRfXlQGslLa4cX1p5Ydadh0sLmt5+MlAzJyBC8itXrpw+ffro0aNC0EXYTtaF6dEPgVmEnimf/PdWvc2EtVJGM+XN5DzvZX6j4KzA6W2F1op6Qek8IGEfmt5qKlBJIyBkXcTmQs3F/xF0JkhPBObiqEljy85qFV0Kykt9Nk+UJNcG5Rpgaqb7rQea3nI6UM1IADVnYvRIYC54zsFxjSFOip5nWqReV5dbmKCJ+uyA8eLkapdteGh6jzOQpiEAAX8EjLFu6+bd0xylfkW1drcJZetFM9YLQ8dQfayani8wtOPbeiJQEQIQWDgBdZ1xaWUl2/dSyq1raZl8e4zQiXKQ3ySJk7QiNLi1oBdJnLmS17TTLFeveqOrpmuLuuWFYn83Sonh1pXohc8yOoQABBZLQJVhSaRl7U6NSrUiDfpWl8VHSsU3k82s+W4RZBqpLy/XbZxMCrbtrKuma0or3VAUAtwi/VQ5W4jSF3sy0RsEhiegyXCm8UIOsjC8vNtQ1p2yTjZVzUTU26psxq58makg2qk7L5ouxc/6wm4auHfFUQJg3WA0/MTDAghAoA8CNkk3rFjmuRLJjnKQ3zRMX1qab1XvpmLu6wFNLzkl3p40Pbs30QNyv897lTMw3Qj3Me9oEwIQ6IWAJnPJSqJIrKsPkpqiYbV2A01Pct/uemwdfYMmAtD0ilxIkYDxpsDhROnW1QR1M6u6ytD9mu/jvMmvt4p5+ZXZND7feTQfA6GN6AmYJd20XmeSTi2X4ZrcKBYzGyiy2RlNGhhe06vS2/6T6lmLwYiLLI3V+5P6yEN1PZtl3bZYnw4wGOBdh0z90RHQRc4WaRukM53i9uy6BUd5d0oTTTY16HoZmdVtUlbry0vupWpVuBA8X3F6gApTP0jDtArmvMpV3SLayU1u+qqLYKzGkCkRMCfTTRNWk16Rbxc7TdSIvi75MmtGmfOdhNaUELI7sJz8b+hoH5puT6ZnFxyfqYaOkl5lbEN2UvEaWex0K9XeKteaVfdZ80QiEboryl7Kua9JyTddMV2FbeujJtwlUZ+H2vMj6hy2y6btbK3O+VZ/20y1jAY7Ty0Pml6hktWJl3yqGmaflZALHHlmly8n0jd+dapK1DtddJ092aWgXdQN4UqXjiKoq0yuZBqt6yt1noZa3CS53y6FP+EawtEkvVr0pGToTFoshWelrNv0kixpIUxyftX8il/LvbqqRS7hrbunjRy7a7pd0isyEspIza8rM+0dqpF0LcWhpYX6idPtuznHcX5ZRB1Fl08aY5xRlXdsqFyG4rLuOM/cblFed6O9t9BN46w4ujVrG6V4uKljmrLrnXFnTTcH29JlTY+HC6WwnRCtonRNz+fUXeJ6L5PQBGJhgp503uHWwyTqKHoxMcyTa/59P9KQz11JIRIj6ryMpJfP54qTsKt66sLRXdHnitXpstBV0023FtnOOLNh8wxXAsOjpNvOOevVwYuOlxpRRb2/c91oe0dZ10QdRc8xVwh6Kup1OttmtrXU5pbV2ljYYx3pBqWjxlXHVf5O0uT86yTGaYDQdTJ11HSjEiipKKvnbZJuvZ2t+8L+xFNX1E6zV7459jdXnLqWr5Etp4RySZIuvQ0siLFojaL3lEx3i8l13km9hcz3Hp2dB9BdI2kHpQ3nIihn2jrA7abphjt200282b7Gkm6LuevC/ZYi15hq+Z6l+WlVdc9jemjJfqzViGVRj0PRxcvcO7/Pvd2NXsmVsjeKpKT+YFd6RJ0Gs8N5NZNnizbFnDOHpVIuNMvdOFginwFyC/rUNrTf+PQpVXCXEVs/skn1EXSrV6J3G6JSW4y41WmrG9FJ043gXb1hUeK8ujZAy9mVHS6Xd7XCt1tSnW3lHX+aXj+HTeOuPm29kuq7MSHlx89c+vvvv/LJf33xiRffuXr9Zssea4N0rd20hv1lUmnOcV4gD0M1Kda12XTrV47mjWdIOVJVmi3+abckvaBkU1qNnCvbb0mdal0IdNF0i266yalF0sX1MnlbTltJL4Sxla52YSntxh+gb8lyNw/oQ1XSL91YDFr71q1bew4c/9h9W5L/PvPtbS+9fqxFzN40Si9rrJwRK2LbpEzyChFZKEtTfu6K0izSJV3PK2jdq83MCyh3CNWWKJ2UG0jkXjLT1H71LeawZ8qgk7SvzrtoeiYBqlscJMUcXIspIt7J00rSi4kz3CSR4+zmmRfPHrY5p6KbWCRdaLf4TdSjx09++ccv57Iu/vKln+za/96HjZQ9ReLozaS0OgFV6U1jY/luP5f5zDsWSVfVU02cmxRXsr25JbodWj6mon3PU5rm3Ah00HS7atSKulHSxcH0kS/3KD1PNA6n5Cnn9HTKf37FUQbcvNSyVDORbla6pUmLqJZo+okTJ3bt2vW9x5+758EXZGX/7tN/+ODcFUdlb6LpStIlG6l6OJHJpdkbv8tFqg4kt4DSJNdjdNFYWYFLFwrTQGotMd11FA6sbb+lr5stHU2gdFOO7TW9KhCsEXWTpM8VPfsdI2viRfvCIRxdXe34DEA90yI+ykc++EUmtToFVG9O7YW4HkOyJhnC5+bNmx999NGhQ4d++9vf/mbjpn/50bN335/mYYS+f+rrW5/aetglyZ5CqaeXP3SmXsuNkl6Or7UoXTsgp+BnbjCKrXJQvms0bmo3yHy5YxdJzyTVhVD9BKKEDwKtNb1aTCulzSDp6Y2o9RQqKZN+12pdE6y+d/QBUH30OCRRbxJ5d7b79u3bYjVSjogD//u9D29/Zd+JmoC9NlDPHzIxK6CajjHItbZVpZWkZ/7LrynGSF6a8fWWVLdQ135+6SGf7kdnnFtpqelFEGDJMVQVUENH8e+kFXleJnG7IdhcX1mR4245HCnZYk5uWp9zciZWLlhE6Mq9dv3zfi17dKxmuheqqupww1NRXSjj9evXf/bcW4HruG7e/U/+vjJg17RSpiBPUpOma3OwXki1FEp+YhShsN7VLMyZp/3Uc0aJn0XN0o7J8tmbZvrLZ125SDFi4/lVtO84TSnmn0ArTc/jv4o9c1atLX4nWsyueSkltEh+n1uejJLeGPaRlm8ypajAcD8olfVwt6gLunxlGvDBD+eESz6hukn6HRGkX7p06dH/e21cmv7NJ3b88U/Hr127Vhmtm9koCe5Mi3Ovm+45qyQ9j2z0e8usWq6YZT1NaqaTcTWPhTQDRDl9y4skKZmkly0pn5/6Km1xRG7fv1LRoiuBZppulU+DfmllS8437uO2BfdSU7W3BfOGK/Q6O0G7r2HqJ3X5rqLx03x2um0WghoNsEmWxjS1hKZfuHDh4MGDW7du3bRp08aQPhs2bPjxExvu/dbz8vXmc99+7olfP7t79+4jR45cueKwZFqKY6pzfZm3LI/maIFvUj47bEgXGu659JDJdA0pGy13rITk1likOnyzt++qP5TzT6CZpvvvf6QtmiN0JVXUVNT9aXrTe5Cukn5HxLlCGY8ePfrmm2/u2bNHaOXgH7HpRXzWtu74ymMvyWr+Fw8+v/KzDc8//7z49p133jl79qzYJOO4DWYBs7V857qADukiNgJoenOP1q4OFeLcVFybGyPXsCwh1DXqwVyhieIxn8uXLwuJ/CCAz+nTp0+dOvX4c3/41NcLQf/419a+8ugmsQ3m5Zdf3r9///Hjxy9evBiUoPf5kse6WRDb93mc4uUc7LxQ0LkBd/+g6e6s8pRp6V5Zr1+OtxvlQBoZUy7cUtCLV4nUJK3qTBOyLjIwQtlD+Ail3v/uKTk8/8Ijzz319DMvvfTS66+//qc//UnsdBSLusLgumEt4HspiTf766ImzAJGNlQXxc2Oj9seexvanXXmO+WL+WWl+t7eIyo03Q2mlk4tJ0HVTLqeAO/3TG0h6JWZnn6tdUPepZTYn/77t4984v4Xhaz/1bfXfvTEM2trayIpdPjw4TNnzly9elVceELJt8wckZ/0XoLKLuQiqCsvdFkXvVzHmXvHViE7j7RTxrAwoj455mpEs3JoejNelB4FARGDHzt2bNOWnT996jmROt+xY8fbb7998uRJsTlHyH0oap6izK+uY7+SBjE1DKu/7e2qVfRZ06n/St6zplp83DjUjAdNb+9wagZLQOReRFZfJM337t27b98+sXh7/vx5cTCMZEuw2MZvmNcEh5Oi56JeenNDxf2Wa6utnYGmt0ZHxXAJCO0WCRaRNBfKfu7cObEDXRwJLDwPl95oLUsiZl/5K/e8TanffHt/Zbamx3syNH20ExjDKwkkW3HEBzWfwExRV4fSx2pLT6sY96vJ23jLQX6TJE6+nlUr6DNfmDLtHn2EpnuESVMQgMCABFQZlkTa8AhGOQ8uXtyzLL9doZnwZs07hd9Jx05F28BE09tQow4EIBAcAU2GM40XIpq9PaG821BO05SVtqnu1j60ItNqVLgxZjS9MTIqQAACARKwSbrhHVGmvb/lIL9pmJ7+PJtb8N30gtEMNprejBelIQCBIAloQplsGxTvq5w98SN/LJsP9ddauq22Jjn0JuuzaHqQMwijIACBgAiYJd20C8akvlo2xDU9UiyKNhB1ND2giYMpEIBAiAR0mbRlTwzamwbu9uy6ZcTlXS7uou56wWgHmtxLO27UggAEAiJgTqabkiea9Ip8+/KySNOUC9cl1GfNKNlzZ6lusk2yOWM0vTkzakAAAmERsG55MZipPyFkfPrULry21Em2Sb5uodTYnT+eaLo/lrQEAQgMQkCT9GrZzDerJ7vELYVnpfTf/iu9nk/7ec3iW/v6arJ2298P36Ppg8xBOoUABLwR6KaSVv3v1qxtdLNW3TbUtOSDprcERzUjges3Q3gjOc6ZFIGO2luR3e5Bf2e99RikC8ej6ZOa/T0OVrxfZffbpz77ne2vv/MBb8vqETRNzwhIiZGOKlm9YNnxeqE4q4drhD4d0HROEQ8ExHuyNu58L/ldoXsf3n7x8lVk3QNWmqhNYHRVSYe9Kr6WNA35+V4cjKb3gnVqjYpXk7/z/om//Mbsd4XEfw8//Yb46YmpQWC8CySQ7TFpn8eQFkprfowyuS/olgMX9nZrwJ0tmu7OipJmAiIkFy8rP3LkyE+ffjn/CdDdbx3jByiYMRBYPAE0ffHMI+xRxOmnTp0SPyr0xe8/n8j6X313+4VLV8jAROhshhQ2ATQ9bP+MxDoRkouf+nz33XdX17bd8+ALZGBG4jfMjJAAmh6hUwcZkkignz17Vvz45w+eXCMDM4gL6BQCggCazjTwQ0CkWa5fv37ixIndu3eTgfHDlFYg0JwAmt6cGTUsBMjAMDUgMDgBNH1wF0RlABmYqNzJYEZIAE0fodMCNpkMTMDOwbRJEEDTJ+HmRQ6SDMwiadMXBBQCaDpTwj8BMjD+mdIiBNwIoOlunCjVhAAZmCa0KAsBnwTQdJ80aSsnQAaGyQCBQQig6YNgn0SnZGAm4WYGGRgBND0wh0RkDhmYiJzJUEZDAE0fjavGaCgZmDF6DZtHTQBNH7X7RmA8GZgROAkTIyKApkfkzCCHQgYmSLdgVLQE0PRoXRvOwMjAhOMLLImeAJoevYuDGCAZmCDcgBETIICmT8DJAQyRDEwATsCESRBA0yfh5hAGSQYmBC9gQ/QE0PToXRzQAMnABOQMTImUAJoeqWODHBYZmCDdglFREUDTo3Jn+IMhAxO+j7Bw1ATQ9FG7b5TGk4EZpdsweiQE0PSROCoiM8nARORMhhIcATQ9OJdMwSAyMFPwMmMchACaPgh2Or1DBoZJAIE+CKDpfVClzXoCZGDqGVECAs0JoOnNmVHDEwEyMJ5A0gwECgJoOrNhSAJkYIakT98xEkDTY/TqeMZEBmY8vsLScRBA08fhp4itdMnACOm/eOWG+H/EHBgaBLwQQNO9YKSRTgQqMjBCx2/duvWln+z62H1bNu58T1wAOvVEZQjETgBNj93DYxhfRQZGCPr6kQ+FoIv//vZ7L1+7do1ofQwuxcbBCKDpg6GnY5mALQNz9erVA4ePJZr+2Ye2njt3jlCdmQOBCgJoOtMjFALGDMyON99/e/2Piabfff+W06dPi2KhWIwdEAiPAJoenk+mapE5A/PQtrfePpRouvjvxIkTaPpUJwjjdiKApjthotACCFy7ceuNw2f+eOzDw4cPr65tu+fBFxIdf+DxVz75QPr3t9bfR9MX4Au6GC8BNH28vovKcpEl/+7Tf0hE/Bu/+N22nb//tyc25+G5yLokf3/jwB9v3LgR1cgZDAS8EkDTveKksVYERNZFrIV+9ed7chEXf/mnH7z4mW8Wsp58tW3vQba+tGJMpakQQNOn4umQxymC9PPnz7/62ltCx2VZ1/++tvMtof5sZwzZm9g2LAE0fVj+9D4jIDT94sWL6+vr27dv//kvVz//iBqe5+L+qy1vXrlyBU1n3kDARgBNZ24MTyDZ8XLmzJmDBw/u3Llz8+bNP/ufjf/w3Wf1OP3J535/+fJlNH14n2FBqATQ9FA9MzG7hEyLxc8LFy4cP378wIEDNmX/96d3i4iex44mNjsYbgMCaHoDWBTtlYCQdSHWImAXufVE2V999dW1tbX/emrjFx9ZTWL27/1yt9B9NL1XR9D4qAmg6aN2X4TG58outFs8YSSyMbt27RLK/otfb/ryoy88+PgOofhoeoSOZ0ieCKDpnkDSjFcCubKLTEui7Hv37hXiLp4pJU73SprGYiOApsfm0cjGI0JykWcXyi7e9HL06FHxf/a99Obi9ZWlu4rP0sr6rKf1leXkL3zGQQBNH4efJm5louxiZ7p44Ei8fZd9L/7nQ6Lny6tFy7nCywf9d0yLngmg6Z6B0lx/BISUo+b94J3rdxqYSz3MD49X0oX54zW+taPR9NboqAiBaAisLosgXdd0kXhZMhwdx7BnY5qgpN9B08cxP7ESAn0SSPMsugSurowymW4dT58QA2kbTQ/EEZgBgSEJ1CbP0wLlqH0e3qcXgmKBNSkjLbjmlwqXMmrqJ1u0lXqedzv/ZAeTI/N+ii+VMkPiXWTfaPoiadMXBMIlUAiuFq4LnVxaWdVWUfWMzeyI0Nn0j9lYE4mVLwUuZbIrQmZJYpvcirQCkKu4cu2YYuJFEEfTwz3HsAwCiyaQy2NZPlfyAFjWSbOk5wFzarsUQs+PZF1oLRXJb13Bs2pFpewWIVkHLS/m6nt4Fs1xyP7Q9CHp0zcEgiOQh+vK4qicZynEuVRIlW9Jw3Mxri+jR/bFpaDczPLq6rJ5YVfZlhkc5D4NQtP7pEvbEAidwPrKPAgvfTJZVzMm8jYSQyxt3DyjKHRtGcvqpnI4ictXjI9DmaL80L3g0z403SdN2oLA2AisLpvSzpqyqlG6SK4bn1FSG1PCcuOGd7lMA0k3br7Mkjuj3YHZff6g6d0Z0gIERktgvvppePRf0eKypM9y2MvSlpf56E2PLamJ7foy5iBbTccYo/3UB1XfjdZNTQxH05vQoiwE4iJgW02skvR5DlvLrhvkWkudO5SxL4+qexktkfjkJZ19L3GdoozGjYBxe4db1bhK6dsAs4hbDt/L+wZn6ZXsiPhT3o1e6Kwph6LqtTnPUr4SpGX0pVjLRsVc0mcVp7mZkTg9rnM0/tHk2zK0Fwg6jr1I6RqTu46txFEsT6YrVJUYWPo2lcnsWpAXzC8OuVsMz6TmjwplhaqE2VrGlMDJ3cHVmjg9jnNzaqPIRKYqELNnZuWHDye8luZz0mipGEPjLmV82jTVtojTp+r5UY/blgaWB2XNzKoXgtmKn7adb9R4Fm68SxLbpczCDY+xQzQ9Rq/GPiYXSTcwMN60z6QGSe82YyqzIWnTLmW6WUHthACazkwYHYF2km6I282LdKPjMbDB5iRX2SiXMgMPI5ru0fRoXDmdgdTdxavrZOqy6iyHrq3pkVhvMYFMZNVmXMq06JoqNgJoOnNjbATqJH0+Hn1Pi75E1y7eHxsu7J0YATR9Yg4f/3C1J1lMQ7JIeikYd5N0w95J6XeYy2/xHj9cRjB+Amj6+H04rRE4KbG+IKcH904NTYsto42BAJoegxcnNAY3JZ4peE1M3vuqnRbNcwACZgJ+z1803S9PWuuXgJsSm19GUt6y6JSV73cwtA6BHgig6T1Apcm+CFRJevHzCF4lnXx6X86k3X4IoOn9cKXVPghUSLrQ8dJvV+ovfao50oe9tAmBxRNA0xfPnB5bEkj3lGtPfZZz7Nm/xJ+pjOtpFt7e19IFVAufAJoevo+wUH9CSF9rUn4zXlojNWTOeXsfkypaAmh6tK5lYAkBfas6ZCAQMQE0PWLnMjQkvXYOFCmq2qLWAj7aaN/7ADVbDbhVpRaDQ9NbQKNK4ASk7elhvXaxvIkmTfevryybfhF0AYzttzDabp/SArT+cyT6Q17+zA8bmkYq9+rsN7jzz/xon5QK3mi6v7lHS4EQmJ06+TkUzLu59KelcjkY5F2/OSWb1zLzNOssW/u1B708TIeRQKtcvS/z64NSGTSa7mHi0URgBIYVSyMMS4g2WLK/VtHzpQjl9fJVGQTfoxkPNOMuWwsq35TU+YamByZHmBMnAdtjq4tKspapOil6thghv2WheLDL7CbXht2cPCJomqjPDtjuv/xSQtPdZhOlIOCVQHrrYPjh5ZXFJ9Pd7/9LUiU912VlYw1CrZUrrmpjglYWdTHaqqRfr6E6cbrXM5fGIGAhUJsPSguUpUB+zUHeQioXxb+LgNClTLLb3zGHn2SKhVEugj4buvU9OkYdqxG3MUGTRL2eVZ9vG0LTESEILIhAIbimZcellVVxu14WW/MTsInCZoFgrrr5KNIvbWWa6Un2eJbjNSDZ22G5YigK7hStjgdaKurLy9nzyxXTqopS19mIpnclSH0INCBgfIJ1fWVlNQtxZe20vNTAJPySippUODk2b7upnEhVncZZXT7XcSdBTzscCTRrqsjArSlVJ/RJITS9ASyKQsADgTzyVDKuWkrEJulKyKzIg1EtpINNw/SlpflGa9c4vf6akY3fucUZ8xFAK2fUayZK0ytrg3mHpjeARVEINCeQBuGliplCyaquSrpBIoxyrOReass00PQkL9xIqxzuA1w0fYTQmmFC05ufSdSAQBgEVpdNAal2n65Kukiuq4lpY7pCCcvry7je9RcLfT7VyjH3Mj5ozSDV3820n7zE6e3ZURMC9QSENBp3tZkyJvK7JZeX1d0pc9VQ2lLDPYcyThFiIehF4sPxidyKa4bzGukIobleKktLBI3ST/VzjXy6KyPKQaA1AZuCVkn6/MEeLbtukGtNR1zK2HcbpoOcNVKdsq+koRkuNatl5c0rpeOD1mR5dM7DRqn1RCsqEqd7gEgTELARyLdsyCqp3adLWpxGyNkR8WcSH6t1TCriUqZST2xi6pICl6XbENKXI38JVz7C4ti4oGVEtZuoirPCdD/l6yRC032RpB0I6ATyvHCmiumL+owplPl3qfZnspYXzHUuf9Wf4ZnU+Y5F+WO+uZ+1ZbdANqPQK/1djEZ/mwPvZlNjNNCk7TgSdIeEig9KVqZoerPpRmkIDELA5V7dpUxifG+aMmvYMe++AIwuQFzK+IbWLyU0fQFTiy4g0JGAywZElzK5Gf3IyswEhzC1IwzX6i5AXMr4htYzJTTddYJQDgKDEXBJv7qUkQfgPVbv5zLRnrkLEJcyfqH1TwlNbz9nqAmBhRDQllQNvbqU0ao1VbSK0RpS9AthY+3EBYhLGa/QFkIJTR925tE7BKoIKEurxly1S5lKNe6cADdsXRnSrS5AXMp4hrYoSmj6kJOPviEAAQj4JYCm++VJaxCAAASGJICmD0mfviEAAQj4JYCm++VJaxCAAASGJICmD0mfviEAAQj4JYCm++VJaxCAAASGJICmD0mfviEAAQj4JYCm++VJaxCAAASGJICmD0mfviEAAQj4JYCm++VJaxCAAASGJICmD0mfviEAAQj4JYCm++VJaxCAAASGJICmD0mfviEAAQj4JYCm++VJaxCAAASGJICmD0mfviEAAQj4JYCm++VJaxCAAASGJICmD0mfviEAAQj4JYCm++VJaxCAAASGJICmD0mfviEAAQj4JYCm++VJaxCAAASGJICmD0mfviEAAQj4JYCm++VJaxCAAASGJICmD0mfviEAAQj4JYCm++VJaxCAAASGJICmD0mfviEAAQj4JYCm++VJaxCAAASGJPD/nQODCNNuO9MAAAAASUVORK5CYII=)"
      ],
      "metadata": {
        "id": "m99ptAi3kXVb"
      }
    },
    {
      "cell_type": "markdown",
      "source": [
        "**Etapa 2. Decidir sobre o limite de suporte**\n",
        "\n",
        "Agora que temos o suporte para cada um dos produtos individuais, usaremos isso para filtrar alguns dos produtos que não são frequentes. Para fazer isso, precisamos decidir sobre um limite de suporte. Para nosso exemplo atual, vamos usar 0,3\n",
        " como mínimo."
      ],
      "metadata": {
        "id": "Jc_Qix45k6oh"
      }
    },
    {
      "cell_type": "markdown",
      "source": [
        "**Etapa 3. Selecionando os itens frequentes**\n",
        "\n",
        "Podemos ver que existem dois produtos individuais que têm um suporte de 0.5 (o que significa que têm pelo menos 5 ocorrências). Esses produtos são Pão e Manteiga."
      ],
      "metadata": {
        "id": "cZEldOTol0bd"
      }
    },
    {
      "cell_type": "markdown",
      "source": [
        "**Inspecionar as regras e suas métricas**"
      ],
      "metadata": {
        "id": "Q2Hl2Jy51Nfe"
      }
    },
    {
      "cell_type": "code",
      "source": [
        "rules = association_rules(frq_items, metric =\"lift\", min_threshold = 1)\n",
        "rules = rules.sort_values(['confidence', 'lift'], ascending =[False, False])\n",
        "print(rules)"
      ],
      "metadata": {
        "colab": {
          "base_uri": "https://localhost:8080/"
        },
        "id": "i8Y3JQP7114u",
        "outputId": "2896a3f6-bfb5-49d3-e2e7-76c118bda982"
      },
      "execution_count": 71,
      "outputs": [
        {
          "output_type": "stream",
          "name": "stdout",
          "text": [
            "                 antecedents                 consequents  antecedent support  \\\n",
            "33            (cerveja, pao)                     (leite)                 0.1   \n",
            "38       (cerveja, manteiga)                     (leite)                 0.1   \n",
            "77  (cerveja, manteiga, pao)                     (leite)                 0.1   \n",
            "80       (cerveja, manteiga)                (leite, pao)                 0.1   \n",
            "82            (cerveja, pao)           (manteiga, leite)                 0.1   \n",
            "..                       ...                         ...                 ...   \n",
            "75                     (pao)     (cafe, manteiga, leite)                 0.5   \n",
            "87                (manteiga)       (cerveja, leite, pao)                 0.5   \n",
            "89                     (pao)  (cerveja, manteiga, leite)                 0.5   \n",
            "13                     (pao)                   (cerveja)                 0.5   \n",
            "15                (manteiga)                   (cerveja)                 0.5   \n",
            "\n",
            "    consequent support  support  confidence  lift  leverage  conviction  \n",
            "33                 0.2      0.1         1.0   5.0      0.08         inf  \n",
            "38                 0.2      0.1         1.0   5.0      0.08         inf  \n",
            "77                 0.2      0.1         1.0   5.0      0.08         inf  \n",
            "80                 0.2      0.1         1.0   5.0      0.08         inf  \n",
            "82                 0.2      0.1         1.0   5.0      0.08         inf  \n",
            "..                 ...      ...         ...   ...       ...         ...  \n",
            "75                 0.1      0.1         0.2   2.0      0.05       1.125  \n",
            "87                 0.1      0.1         0.2   2.0      0.05       1.125  \n",
            "89                 0.1      0.1         0.2   2.0      0.05       1.125  \n",
            "13                 0.2      0.1         0.2   1.0      0.00       1.000  \n",
            "15                 0.2      0.1         0.2   1.0      0.00       1.000  \n",
            "\n",
            "[90 rows x 9 columns]\n"
          ]
        }
      ]
    },
    {
      "cell_type": "markdown",
      "source": [
        ""
      ],
      "metadata": {
        "id": "D6B_7lJ31FYr"
      }
    },
    {
      "cell_type": "markdown",
      "source": [
        "**Etapa 4. Encontrando o suporte dos conjuntos de itens frequentes**\n",
        "\n",
        "O próximo passo é fazer a mesma análise, mas agora usando pares de produtos em vez de produtos individuais. O número de combinações pode rapidamente se tornar grande aqui, especialmente se você tiver uma lista extensa de produtos.\n",
        "\n",
        "A grande “invenção” por trás do algoritmo Apriori é que iremos ignorar diretamente todos os pares que contenham algum dos itens não frequentes. Graças a isso, temos muito menos pares de itens para escanear.\n",
        "\n",
        "Aqui está uma lista de todos os pares que contêm manteiga, pão ou ambos. Tudo isso pode ser descartado e isso agilizará a execução de nossas contagens."
      ],
      "metadata": {
        "id": "qQFdRAZHpROm"
      }
    },
    {
      "cell_type": "code",
      "source": [
        "frq_items = apriori(data, min_support = 0.3, use_colnames = True)\n"
      ],
      "metadata": {
        "id": "Hpdg6IEyqGws"
      },
      "execution_count": 72,
      "outputs": []
    },
    {
      "cell_type": "code",
      "source": [
        "rules = association_rules(frq_items, metric =\"lift\", min_threshold = 1)\n",
        "rules = rules.sort_values(['confidence', 'lift'], ascending =[False, False])\n",
        "print(rules)"
      ],
      "metadata": {
        "colab": {
          "base_uri": "https://localhost:8080/"
        },
        "outputId": "9fbf0c74-8b15-40e5-908a-c15388d94a1d",
        "id": "4RSZ95FJqCRs"
      },
      "execution_count": 73,
      "outputs": [
        {
          "output_type": "stream",
          "name": "stdout",
          "text": [
            "         antecedents       consequents  antecedent support  \\\n",
            "9             (cafe)   (manteiga, pao)                 0.3   \n",
            "0             (cafe)             (pao)                 0.3   \n",
            "2             (cafe)        (manteiga)                 0.3   \n",
            "6   (cafe, manteiga)             (pao)                 0.3   \n",
            "7        (cafe, pao)        (manteiga)                 0.3   \n",
            "4         (manteiga)             (pao)                 0.5   \n",
            "5              (pao)        (manteiga)                 0.5   \n",
            "8    (manteiga, pao)            (cafe)                 0.4   \n",
            "1              (pao)            (cafe)                 0.5   \n",
            "3         (manteiga)            (cafe)                 0.5   \n",
            "10        (manteiga)       (cafe, pao)                 0.5   \n",
            "11             (pao)  (cafe, manteiga)                 0.5   \n",
            "\n",
            "    consequent support  support  confidence  lift  leverage  conviction  \n",
            "9                  0.4      0.3        1.00   2.5      0.18         inf  \n",
            "0                  0.5      0.3        1.00   2.0      0.15         inf  \n",
            "2                  0.5      0.3        1.00   2.0      0.15         inf  \n",
            "6                  0.5      0.3        1.00   2.0      0.15         inf  \n",
            "7                  0.5      0.3        1.00   2.0      0.15         inf  \n",
            "4                  0.5      0.4        0.80   1.6      0.15        2.50  \n",
            "5                  0.5      0.4        0.80   1.6      0.15        2.50  \n",
            "8                  0.3      0.3        0.75   2.5      0.18        2.80  \n",
            "1                  0.3      0.3        0.60   2.0      0.15        1.75  \n",
            "3                  0.3      0.3        0.60   2.0      0.15        1.75  \n",
            "10                 0.3      0.3        0.60   2.0      0.15        1.75  \n",
            "11                 0.3      0.3        0.60   2.0      0.15        1.75  \n"
          ]
        }
      ]
    },
    {
      "cell_type": "markdown",
      "source": [
        "**Etapa 5. Repita para conjuntos maiores**\n"
      ],
      "metadata": {
        "id": "iLJ4jFGIr2qa"
      }
    },
    {
      "cell_type": "markdown",
      "source": [
        "**Etapa 6. Gerar regras de associação e calcular a confiança**\n",
        "\n",
        "Agora que temos os maiores conjuntos de itens frequentes, a próxima etapa é convertê-los em Regras de Associação. As Regras de Associação vão um passo além de apenas listar produtos que ocorrem juntos com frequência.\n",
        "\n",
        "As Regras de Associação são escritas no formato: Produto X => Produto Y. Isso significa que você obtém uma regra que informa que, se você comprar o produto X, provavelmente também comprará o produto Y.\n",
        "\n",
        "Existe uma medida adicional chamada confiança. A confiança informa uma porcentagem de casos em que essa regra é válida. 100% de confiança significa que essa associação sempre ocorre; 50%, por exemplo, significa que a regra é válida apenas 50% do tempo.\n",
        "![formulas.png](data:image/png;base64,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)"
      ],
      "metadata": {
        "id": "ITDunmhDsSEO"
      }
    },
    {
      "cell_type": "code",
      "source": [
        "rules = association_rules(frq_items, metric =\"lift\", min_threshold = 1)\n",
        "rules = rules.sort_values(['confidence', 'lift'], ascending =[False, False])\n",
        "print(rules)"
      ],
      "metadata": {
        "colab": {
          "base_uri": "https://localhost:8080/"
        },
        "outputId": "5d68fda1-7b2d-4ca2-b529-e12a02f6b62a",
        "id": "Tru3x4CSsn5i"
      },
      "execution_count": 74,
      "outputs": [
        {
          "output_type": "stream",
          "name": "stdout",
          "text": [
            "         antecedents       consequents  antecedent support  \\\n",
            "9             (cafe)   (manteiga, pao)                 0.3   \n",
            "0             (cafe)             (pao)                 0.3   \n",
            "2             (cafe)        (manteiga)                 0.3   \n",
            "6   (cafe, manteiga)             (pao)                 0.3   \n",
            "7        (cafe, pao)        (manteiga)                 0.3   \n",
            "4         (manteiga)             (pao)                 0.5   \n",
            "5              (pao)        (manteiga)                 0.5   \n",
            "8    (manteiga, pao)            (cafe)                 0.4   \n",
            "1              (pao)            (cafe)                 0.5   \n",
            "3         (manteiga)            (cafe)                 0.5   \n",
            "10        (manteiga)       (cafe, pao)                 0.5   \n",
            "11             (pao)  (cafe, manteiga)                 0.5   \n",
            "\n",
            "    consequent support  support  confidence  lift  leverage  conviction  \n",
            "9                  0.4      0.3        1.00   2.5      0.18         inf  \n",
            "0                  0.5      0.3        1.00   2.0      0.15         inf  \n",
            "2                  0.5      0.3        1.00   2.0      0.15         inf  \n",
            "6                  0.5      0.3        1.00   2.0      0.15         inf  \n",
            "7                  0.5      0.3        1.00   2.0      0.15         inf  \n",
            "4                  0.5      0.4        0.80   1.6      0.15        2.50  \n",
            "5                  0.5      0.4        0.80   1.6      0.15        2.50  \n",
            "8                  0.3      0.3        0.75   2.5      0.18        2.80  \n",
            "1                  0.3      0.3        0.60   2.0      0.15        1.75  \n",
            "3                  0.3      0.3        0.60   2.0      0.15        1.75  \n",
            "10                 0.3      0.3        0.60   2.0      0.15        1.75  \n",
            "11                 0.3      0.3        0.60   2.0      0.15        1.75  \n"
          ]
        }
      ]
    },
    {
      "cell_type": "code",
      "source": [
        "rules = association_rules(frq_items, metric =\"lift\", min_threshold = 1)\n",
        "rules = rules.sort_values(['confidence', 'lift'], ascending =[False, False])\n",
        "print(rules)"
      ],
      "metadata": {
        "colab": {
          "base_uri": "https://localhost:8080/"
        },
        "outputId": "d6b05c03-2eef-40f2-958f-6a3e33111ddb",
        "id": "H5C7AkgVtf06"
      },
      "execution_count": 75,
      "outputs": [
        {
          "output_type": "stream",
          "name": "stdout",
          "text": [
            "         antecedents       consequents  antecedent support  \\\n",
            "9             (cafe)   (manteiga, pao)                 0.3   \n",
            "0             (cafe)             (pao)                 0.3   \n",
            "2             (cafe)        (manteiga)                 0.3   \n",
            "6   (cafe, manteiga)             (pao)                 0.3   \n",
            "7        (cafe, pao)        (manteiga)                 0.3   \n",
            "4         (manteiga)             (pao)                 0.5   \n",
            "5              (pao)        (manteiga)                 0.5   \n",
            "8    (manteiga, pao)            (cafe)                 0.4   \n",
            "1              (pao)            (cafe)                 0.5   \n",
            "3         (manteiga)            (cafe)                 0.5   \n",
            "10        (manteiga)       (cafe, pao)                 0.5   \n",
            "11             (pao)  (cafe, manteiga)                 0.5   \n",
            "\n",
            "    consequent support  support  confidence  lift  leverage  conviction  \n",
            "9                  0.4      0.3        1.00   2.5      0.18         inf  \n",
            "0                  0.5      0.3        1.00   2.0      0.15         inf  \n",
            "2                  0.5      0.3        1.00   2.0      0.15         inf  \n",
            "6                  0.5      0.3        1.00   2.0      0.15         inf  \n",
            "7                  0.5      0.3        1.00   2.0      0.15         inf  \n",
            "4                  0.5      0.4        0.80   1.6      0.15        2.50  \n",
            "5                  0.5      0.4        0.80   1.6      0.15        2.50  \n",
            "8                  0.3      0.3        0.75   2.5      0.18        2.80  \n",
            "1                  0.3      0.3        0.60   2.0      0.15        1.75  \n",
            "3                  0.3      0.3        0.60   2.0      0.15        1.75  \n",
            "10                 0.3      0.3        0.60   2.0      0.15        1.75  \n",
            "11                 0.3      0.3        0.60   2.0      0.15        1.75  \n"
          ]
        }
      ]
    },
    {
      "cell_type": "markdown",
      "source": [
        "Etapa 7. Calcular o aumento\n",
        "\n",
        "Depois de obter as regras, o último passo é calcular o levantamento de cada regra. De acordo com a definição, o levantamento de uma regra é uma métrica de desempenho que indica a força da associação entre os produtos da regra.\n",
        "\n",
        "![formulas.png](data:image/png;base64,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)\n",
        "\n",
        "Isso significa que o aumento basicamente compara a melhoria de uma regra de associação com o conjunto de dados geral. Se “qualquer produto => X” em 10% dos casos enquanto “A => X” em 75% dos casos, a melhora seria de 75% / 10% = 7,5.\n",
        "\n",
        "Se o lift de uma regra for 1, então os produtos são independentes um do outro. Qualquer regra que tenha um aumento de 1 pode ser descartada.\n",
        "\n",
        "Se o aumento de uma regra for maior que 1, o valor do aumento informa o quanto o produto do lado direito depende do lado esquerdo."
      ],
      "metadata": {
        "id": "TUhzt899tWX4"
      }
    },
    {
      "cell_type": "markdown",
      "source": [
        "**Precisão a priori: como equilibrar suporte, confiança e levantamento de uma regra?**\n",
        "\n",
        "Isso basicamente nos dá três métricas para interpretar:\n",
        "\n",
        "- suporte (o número de vezes, ou porcentagem, que os produtos ocorrem simultaneamente)\n",
        "\n",
        "- confiança (o número de vezes que uma regra ocorre, também a probabilidade condicional do lado direito dado o lado esquerdo)\n",
        "\n",
        "- lift (a força da associação)\n",
        "\n",
        "Essas três métricas têm sua própria validade. Portanto, é difícil escolher entre eles. Por exemplo, se você tiver uma regra que tenha um aumento maior, mas menor confiança do que outra regra, seria difícil afirmar que uma regra é \"melhor que outra\". Neste ponto, você pode querer apenas manter as duas regras ou tentar encontrar um motivo para preferir uma métrica à outra em seu caso de uso específico."
      ],
      "metadata": {
        "id": "G_1GAwrKv9ww"
      }
    },
    {
      "cell_type": "markdown",
      "source": [
        "\n"
      ],
      "metadata": {
        "id": "MkrL6vB4wpR3"
      }
    }
  ]
}